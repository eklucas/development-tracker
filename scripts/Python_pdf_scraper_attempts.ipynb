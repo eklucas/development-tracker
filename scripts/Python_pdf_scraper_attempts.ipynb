{
 "cells": [
  {
   "cell_type": "code",
   "execution_count": 1,
   "id": "1134176b",
   "metadata": {},
   "outputs": [
    {
     "name": "stdout",
     "output_type": "stream",
     "text": [
      "Collecting pdfplumber\n",
      "  Downloading pdfplumber-0.7.5-py3-none-any.whl (40 kB)\n",
      "\u001b[K     |████████████████████████████████| 40 kB 2.3 MB/s eta 0:00:01\n",
      "\u001b[?25hCollecting Wand>=0.6.10\n",
      "  Downloading Wand-0.6.10-py2.py3-none-any.whl (142 kB)\n",
      "\u001b[K     |████████████████████████████████| 142 kB 5.9 MB/s eta 0:00:01\n",
      "\u001b[?25hCollecting Pillow>=9.1\n",
      "  Downloading Pillow-9.3.0-cp39-cp39-macosx_10_10_x86_64.whl (3.3 MB)\n",
      "\u001b[K     |████████████████████████████████| 3.3 MB 8.3 MB/s eta 0:00:01\n",
      "\u001b[?25hCollecting pdfminer.six==20220524\n",
      "  Downloading pdfminer.six-20220524-py3-none-any.whl (5.6 MB)\n",
      "\u001b[K     |████████████████████████████████| 5.6 MB 23.3 MB/s eta 0:00:01\n",
      "\u001b[?25hRequirement already satisfied: charset-normalizer>=2.0.0 in /Users/MatthewZdun/opt/anaconda3/lib/python3.9/site-packages (from pdfminer.six==20220524->pdfplumber) (2.0.4)\n",
      "Collecting cryptography>=36.0.0\n",
      "  Downloading cryptography-38.0.3-cp36-abi3-macosx_10_10_x86_64.whl (2.8 MB)\n",
      "\u001b[K     |████████████████████████████████| 2.8 MB 7.5 MB/s eta 0:00:01\n",
      "\u001b[?25hRequirement already satisfied: cffi>=1.12 in /Users/MatthewZdun/opt/anaconda3/lib/python3.9/site-packages (from cryptography>=36.0.0->pdfminer.six==20220524->pdfplumber) (1.14.6)\n",
      "Requirement already satisfied: pycparser in /Users/MatthewZdun/opt/anaconda3/lib/python3.9/site-packages (from cffi>=1.12->cryptography>=36.0.0->pdfminer.six==20220524->pdfplumber) (2.20)\n",
      "Installing collected packages: cryptography, Wand, Pillow, pdfminer.six, pdfplumber\n",
      "  Attempting uninstall: cryptography\n",
      "    Found existing installation: cryptography 3.4.8\n",
      "    Uninstalling cryptography-3.4.8:\n",
      "      Successfully uninstalled cryptography-3.4.8\n",
      "  Attempting uninstall: Pillow\n",
      "    Found existing installation: Pillow 8.4.0\n",
      "    Uninstalling Pillow-8.4.0:\n",
      "      Successfully uninstalled Pillow-8.4.0\n",
      "Successfully installed Pillow-9.3.0 Wand-0.6.10 cryptography-38.0.3 pdfminer.six-20220524 pdfplumber-0.7.5\n",
      "Note: you may need to restart the kernel to use updated packages.\n"
     ]
    }
   ],
   "source": [
    "pip install pdfplumber"
   ]
  },
  {
   "cell_type": "code",
   "execution_count": 27,
   "id": "f12693c1",
   "metadata": {},
   "outputs": [
    {
     "data": {
      "text/plain": [
       "[['BLDR-000083-2023 BSD-Building  Addition  Issued 600 Rogers St, Columbia, MO 65201 First 1632000090120001\\n(Residential  (Residential)\\nAlter/Add)'],\n",
       " ['10/05/2022 10/05/2022 04/17/2023 10/17/2022 OWNER CONTRACTOR\\nR-MF Multiple-family Dwe l4li8n0g $31,910.40  $355.00  Douglas Kenney'],\n",
       " [\"Description:  12' x 40' detached wood framed storage building on slab.\"]]"
      ]
     },
     "execution_count": 27,
     "metadata": {},
     "output_type": "execute_result"
    }
   ],
   "source": [
    "import pdfplumber\n",
    "\n",
    "pdf = pdfplumber.open(\"data/october_permits.pdf\")\n",
    "page = pdf.pages[2]\n",
    "page2 = page.extract_table()\n",
    "page2"
   ]
  },
  {
   "cell_type": "code",
   "execution_count": 22,
   "id": "71f8eeb2",
   "metadata": {},
   "outputs": [
    {
     "data": {
      "text/plain": [
       "'BLDR-000083-2023 BSD-Building  Addition  Issued 600 Rogers St, Columbia, MO 65201 First 1632000090120001'"
      ]
     },
     "execution_count": 22,
     "metadata": {},
     "output_type": "execute_result"
    }
   ],
   "source": [
    "' '.join(page2[0]).split('\\n',1)[0]"
   ]
  },
  {
   "cell_type": "code",
   "execution_count": 9,
   "id": "43ca47f2",
   "metadata": {},
   "outputs": [],
   "source": [
    "import pandas as pd\n",
    "\n",
    "page2 = pd.DataFrame(page2)"
   ]
  },
  {
   "cell_type": "code",
   "execution_count": 10,
   "id": "3916d3f0",
   "metadata": {},
   "outputs": [
    {
     "data": {
      "text/html": [
       "<div>\n",
       "<style scoped>\n",
       "    .dataframe tbody tr th:only-of-type {\n",
       "        vertical-align: middle;\n",
       "    }\n",
       "\n",
       "    .dataframe tbody tr th {\n",
       "        vertical-align: top;\n",
       "    }\n",
       "\n",
       "    .dataframe thead th {\n",
       "        text-align: right;\n",
       "    }\n",
       "</style>\n",
       "<table border=\"1\" class=\"dataframe\">\n",
       "  <thead>\n",
       "    <tr style=\"text-align: right;\">\n",
       "      <th></th>\n",
       "      <th>0</th>\n",
       "    </tr>\n",
       "  </thead>\n",
       "  <tbody>\n",
       "    <tr>\n",
       "      <th>0</th>\n",
       "      <td>BLDR-000083-2023 BSD-Building  Addition  Issue...</td>\n",
       "    </tr>\n",
       "    <tr>\n",
       "      <th>1</th>\n",
       "      <td>10/05/2022 10/05/2022 04/17/2023 10/17/2022 OW...</td>\n",
       "    </tr>\n",
       "    <tr>\n",
       "      <th>2</th>\n",
       "      <td>Description:  12' x 40' detached wood framed s...</td>\n",
       "    </tr>\n",
       "  </tbody>\n",
       "</table>\n",
       "</div>"
      ],
      "text/plain": [
       "                                                   0\n",
       "0  BLDR-000083-2023 BSD-Building  Addition  Issue...\n",
       "1  10/05/2022 10/05/2022 04/17/2023 10/17/2022 OW...\n",
       "2  Description:  12' x 40' detached wood framed s..."
      ]
     },
     "execution_count": 10,
     "metadata": {},
     "output_type": "execute_result"
    }
   ],
   "source": [
    "page2"
   ]
  },
  {
   "cell_type": "code",
   "execution_count": null,
   "id": "bae35975",
   "metadata": {},
   "outputs": [],
   "source": []
  },
  {
   "cell_type": "code",
   "execution_count": null,
   "id": "3c6c0ffe",
   "metadata": {},
   "outputs": [],
   "source": []
  },
  {
   "cell_type": "code",
   "execution_count": 29,
   "id": "3e7650e7",
   "metadata": {},
   "outputs": [
    {
     "name": "stdout",
     "output_type": "stream",
     "text": [
      "Collecting camelot-py[cv]\n",
      "  Downloading camelot_py-0.10.1-py3-none-any.whl (40 kB)\n",
      "\u001b[K     |████████████████████████████████| 40 kB 90 kB/s  eta 0:00:01\n",
      "\u001b[?25hCollecting tabula-py\n",
      "  Downloading tabula_py-2.5.1-py3-none-any.whl (12.0 MB)\n",
      "\u001b[K     |████████████████████████████████| 12.0 MB 394 kB/s eta 0:00:01\n",
      "\u001b[?25hRequirement already satisfied: chardet>=3.0.4 in /Users/MatthewZdun/opt/anaconda3/lib/python3.9/site-packages (from camelot-py[cv]) (4.0.0)\n",
      "Requirement already satisfied: numpy>=1.13.3 in /Users/MatthewZdun/opt/anaconda3/lib/python3.9/site-packages (from camelot-py[cv]) (1.20.3)\n",
      "Requirement already satisfied: click>=6.7 in /Users/MatthewZdun/opt/anaconda3/lib/python3.9/site-packages (from camelot-py[cv]) (8.0.3)\n",
      "Requirement already satisfied: openpyxl>=2.5.8 in /Users/MatthewZdun/opt/anaconda3/lib/python3.9/site-packages (from camelot-py[cv]) (3.0.9)\n",
      "Requirement already satisfied: pdfminer.six>=20200726 in /Users/MatthewZdun/opt/anaconda3/lib/python3.9/site-packages (from camelot-py[cv]) (20220524)\n",
      "Requirement already satisfied: pandas>=0.23.4 in /Users/MatthewZdun/opt/anaconda3/lib/python3.9/site-packages (from camelot-py[cv]) (1.3.4)\n",
      "Collecting PyPDF2>=1.26.0\n",
      "  Downloading PyPDF2-2.11.1-py3-none-any.whl (220 kB)\n",
      "\u001b[K     |████████████████████████████████| 220 kB 18.8 MB/s eta 0:00:01\n",
      "\u001b[?25hCollecting tabulate>=0.8.9\n",
      "  Downloading tabulate-0.9.0-py3-none-any.whl (35 kB)\n",
      "Collecting opencv-python>=3.4.2.17\n",
      "  Downloading opencv_python-4.6.0.66-cp36-abi3-macosx_10_15_x86_64.whl (46.4 MB)\n",
      "\u001b[K     |████████████████████████████████| 46.4 MB 88 kB/s s eta 0:00:01     |███████████████████████████████▌| 45.7 MB 16.3 MB/s eta 0:00:01\n",
      "\u001b[?25hCollecting ghostscript>=0.7\n",
      "  Downloading ghostscript-0.7-py2.py3-none-any.whl (25 kB)\n",
      "Collecting pdftopng>=0.2.3\n",
      "  Downloading pdftopng-0.2.3-cp39-cp39-macosx_10_9_x86_64.whl (2.1 MB)\n",
      "\u001b[K     |████████████████████████████████| 2.1 MB 14.5 MB/s eta 0:00:01\n",
      "\u001b[?25hCollecting distro\n",
      "  Downloading distro-1.8.0-py3-none-any.whl (20 kB)\n",
      "Requirement already satisfied: setuptools>=38.6.0 in /Users/MatthewZdun/opt/anaconda3/lib/python3.9/site-packages (from ghostscript>=0.7->camelot-py[cv]) (58.0.4)\n",
      "Requirement already satisfied: et-xmlfile in /Users/MatthewZdun/opt/anaconda3/lib/python3.9/site-packages (from openpyxl>=2.5.8->camelot-py[cv]) (1.1.0)\n",
      "Requirement already satisfied: python-dateutil>=2.7.3 in /Users/MatthewZdun/opt/anaconda3/lib/python3.9/site-packages (from pandas>=0.23.4->camelot-py[cv]) (2.8.2)\n",
      "Requirement already satisfied: pytz>=2017.3 in /Users/MatthewZdun/opt/anaconda3/lib/python3.9/site-packages (from pandas>=0.23.4->camelot-py[cv]) (2021.3)\n",
      "Requirement already satisfied: cryptography>=36.0.0 in /Users/MatthewZdun/opt/anaconda3/lib/python3.9/site-packages (from pdfminer.six>=20200726->camelot-py[cv]) (38.0.3)\n",
      "Requirement already satisfied: charset-normalizer>=2.0.0 in /Users/MatthewZdun/opt/anaconda3/lib/python3.9/site-packages (from pdfminer.six>=20200726->camelot-py[cv]) (2.0.4)\n",
      "Requirement already satisfied: cffi>=1.12 in /Users/MatthewZdun/opt/anaconda3/lib/python3.9/site-packages (from cryptography>=36.0.0->pdfminer.six>=20200726->camelot-py[cv]) (1.14.6)\n",
      "Requirement already satisfied: pycparser in /Users/MatthewZdun/opt/anaconda3/lib/python3.9/site-packages (from cffi>=1.12->cryptography>=36.0.0->pdfminer.six>=20200726->camelot-py[cv]) (2.20)\n",
      "Requirement already satisfied: typing-extensions>=3.10.0.0 in /Users/MatthewZdun/opt/anaconda3/lib/python3.9/site-packages (from PyPDF2>=1.26.0->camelot-py[cv]) (3.10.0.2)\n",
      "Requirement already satisfied: six>=1.5 in /Users/MatthewZdun/opt/anaconda3/lib/python3.9/site-packages (from python-dateutil>=2.7.3->pandas>=0.23.4->camelot-py[cv]) (1.16.0)\n",
      "Installing collected packages: tabulate, PyPDF2, pdftopng, opencv-python, ghostscript, distro, camelot-py, tabula-py\n",
      "Successfully installed PyPDF2-2.11.1 camelot-py-0.10.1 distro-1.8.0 ghostscript-0.7 opencv-python-4.6.0.66 pdftopng-0.2.3 tabula-py-2.5.1 tabulate-0.9.0\n",
      "Note: you may need to restart the kernel to use updated packages.\n"
     ]
    }
   ],
   "source": [
    "pip install camelot-py[cv] tabula-py"
   ]
  },
  {
   "cell_type": "code",
   "execution_count": 35,
   "id": "fdbf5f4a",
   "metadata": {},
   "outputs": [
    {
     "name": "stdout",
     "output_type": "stream",
     "text": [
      "Requirement already satisfied: ghostwriter in /Users/MatthewZdun/opt/anaconda3/lib/python3.9/site-packages (0.1)\n",
      "Requirement already satisfied: PySocks in /Users/MatthewZdun/opt/anaconda3/lib/python3.9/site-packages (from ghostwriter) (1.7.1)\n",
      "Requirement already satisfied: click in /Users/MatthewZdun/opt/anaconda3/lib/python3.9/site-packages (from ghostwriter) (8.0.3)\n",
      "Requirement already satisfied: sip in /Users/MatthewZdun/opt/anaconda3/lib/python3.9/site-packages (from ghostwriter) (4.19.13)\n",
      "Requirement already satisfied: Lektor in /Users/MatthewZdun/opt/anaconda3/lib/python3.9/site-packages (from ghostwriter) (3.3.7)\n",
      "Requirement already satisfied: GitPython in /Users/MatthewZdun/opt/anaconda3/lib/python3.9/site-packages (from ghostwriter) (3.1.29)\n",
      "Requirement already satisfied: PyInstaller in /Users/MatthewZdun/opt/anaconda3/lib/python3.9/site-packages (from ghostwriter) (5.6.2)\n",
      "Requirement already satisfied: Cryptography in /Users/MatthewZdun/opt/anaconda3/lib/python3.9/site-packages (from ghostwriter) (38.0.3)\n",
      "Requirement already satisfied: Werkzeug in /Users/MatthewZdun/opt/anaconda3/lib/python3.9/site-packages (from ghostwriter) (2.0.2)\n",
      "Requirement already satisfied: PyQt5 in /Users/MatthewZdun/opt/anaconda3/lib/python3.9/site-packages (from ghostwriter) (5.15.7)\n",
      "Requirement already satisfied: itsdangerous in /Users/MatthewZdun/opt/anaconda3/lib/python3.9/site-packages (from ghostwriter) (2.0.1)\n",
      "Requirement already satisfied: PyQt5-sip in /Users/MatthewZdun/opt/anaconda3/lib/python3.9/site-packages (from ghostwriter) (12.11.0)\n",
      "Requirement already satisfied: Docker in /Users/MatthewZdun/opt/anaconda3/lib/python3.9/site-packages (from ghostwriter) (6.0.1)\n",
      "Requirement already satisfied: cffi>=1.12 in /Users/MatthewZdun/opt/anaconda3/lib/python3.9/site-packages (from Cryptography->ghostwriter) (1.14.6)\n",
      "Requirement already satisfied: pycparser in /Users/MatthewZdun/opt/anaconda3/lib/python3.9/site-packages (from cffi>=1.12->Cryptography->ghostwriter) (2.20)\n",
      "Requirement already satisfied: packaging>=14.0 in /Users/MatthewZdun/opt/anaconda3/lib/python3.9/site-packages (from Docker->ghostwriter) (21.0)\n",
      "Requirement already satisfied: requests>=2.26.0 in /Users/MatthewZdun/opt/anaconda3/lib/python3.9/site-packages (from Docker->ghostwriter) (2.26.0)\n",
      "Requirement already satisfied: urllib3>=1.26.0 in /Users/MatthewZdun/opt/anaconda3/lib/python3.9/site-packages (from Docker->ghostwriter) (1.26.7)\n",
      "Requirement already satisfied: websocket-client>=0.32.0 in /Users/MatthewZdun/opt/anaconda3/lib/python3.9/site-packages (from Docker->ghostwriter) (1.4.2)\n",
      "Requirement already satisfied: pyparsing>=2.0.2 in /Users/MatthewZdun/opt/anaconda3/lib/python3.9/site-packages (from packaging>=14.0->Docker->ghostwriter) (3.0.4)\n",
      "Requirement already satisfied: certifi>=2017.4.17 in /Users/MatthewZdun/opt/anaconda3/lib/python3.9/site-packages (from requests>=2.26.0->Docker->ghostwriter) (2021.10.8)\n",
      "Requirement already satisfied: idna<4,>=2.5 in /Users/MatthewZdun/opt/anaconda3/lib/python3.9/site-packages (from requests>=2.26.0->Docker->ghostwriter) (3.2)\n",
      "Requirement already satisfied: charset-normalizer~=2.0.0 in /Users/MatthewZdun/opt/anaconda3/lib/python3.9/site-packages (from requests>=2.26.0->Docker->ghostwriter) (2.0.4)\n",
      "Requirement already satisfied: gitdb<5,>=4.0.1 in /Users/MatthewZdun/opt/anaconda3/lib/python3.9/site-packages (from GitPython->ghostwriter) (4.0.9)\n",
      "Requirement already satisfied: smmap<6,>=3.0.1 in /Users/MatthewZdun/opt/anaconda3/lib/python3.9/site-packages (from gitdb<5,>=4.0.1->GitPython->ghostwriter) (5.0.0)\n",
      "Requirement already satisfied: python-slugify in /Users/MatthewZdun/opt/anaconda3/lib/python3.9/site-packages (from Lektor->ghostwriter) (5.0.2)\n",
      "Requirement already satisfied: filetype>=1.0.7 in /Users/MatthewZdun/opt/anaconda3/lib/python3.9/site-packages (from Lektor->ghostwriter) (1.2.0)\n",
      "Requirement already satisfied: Jinja2>=3.0 in /Users/MatthewZdun/opt/anaconda3/lib/python3.9/site-packages (from Lektor->ghostwriter) (3.1.2)\n",
      "Requirement already satisfied: mistune<2,>=0.7.0 in /Users/MatthewZdun/opt/anaconda3/lib/python3.9/site-packages (from Lektor->ghostwriter) (0.8.4)\n",
      "Requirement already satisfied: setuptools in /Users/MatthewZdun/opt/anaconda3/lib/python3.9/site-packages (from Lektor->ghostwriter) (58.0.4)\n",
      "Requirement already satisfied: pip in /Users/MatthewZdun/opt/anaconda3/lib/python3.9/site-packages (from Lektor->ghostwriter) (21.2.4)\n",
      "Requirement already satisfied: inifile>=0.4.1 in /Users/MatthewZdun/opt/anaconda3/lib/python3.9/site-packages (from Lektor->ghostwriter) (0.4.1)\n",
      "Requirement already satisfied: Babel in /Users/MatthewZdun/opt/anaconda3/lib/python3.9/site-packages (from Lektor->ghostwriter) (2.9.1)\n",
      "Requirement already satisfied: watchdog in /Users/MatthewZdun/opt/anaconda3/lib/python3.9/site-packages (from Lektor->ghostwriter) (2.1.3)\n",
      "Requirement already satisfied: EXIFRead in /Users/MatthewZdun/opt/anaconda3/lib/python3.9/site-packages (from Lektor->ghostwriter) (3.0.0)\n",
      "Requirement already satisfied: Flask in /Users/MatthewZdun/opt/anaconda3/lib/python3.9/site-packages (from Lektor->ghostwriter) (1.1.2)\n",
      "Requirement already satisfied: MarkupSafe>=2.0 in /Users/MatthewZdun/opt/anaconda3/lib/python3.9/site-packages (from Jinja2>=3.0->Lektor->ghostwriter) (2.1.1)\n",
      "Requirement already satisfied: pytz>=2015.7 in /Users/MatthewZdun/opt/anaconda3/lib/python3.9/site-packages (from Babel->Lektor->ghostwriter) (2021.3)\n",
      "Requirement already satisfied: pyinstaller-hooks-contrib>=2021.4 in /Users/MatthewZdun/opt/anaconda3/lib/python3.9/site-packages (from PyInstaller->ghostwriter) (2022.13)\n",
      "Requirement already satisfied: altgraph in /Users/MatthewZdun/opt/anaconda3/lib/python3.9/site-packages (from PyInstaller->ghostwriter) (0.17.3)\n",
      "Requirement already satisfied: macholib>=1.8 in /Users/MatthewZdun/opt/anaconda3/lib/python3.9/site-packages (from PyInstaller->ghostwriter) (1.16.2)\n",
      "Requirement already satisfied: PyQt5-Qt5>=5.15.0 in /Users/MatthewZdun/opt/anaconda3/lib/python3.9/site-packages (from PyQt5->ghostwriter) (5.15.2)\n",
      "Requirement already satisfied: text-unidecode>=1.3 in /Users/MatthewZdun/opt/anaconda3/lib/python3.9/site-packages (from python-slugify->Lektor->ghostwriter) (1.3)\n",
      "Note: you may need to restart the kernel to use updated packages.\n"
     ]
    }
   ],
   "source": [
    "pip install ghostwriter"
   ]
  },
  {
   "cell_type": "code",
   "execution_count": 40,
   "id": "04e13cab",
   "metadata": {},
   "outputs": [],
   "source": [
    "import camelot\n",
    "\n",
    "file = \"data/permits_sample.pdf\""
   ]
  },
  {
   "cell_type": "code",
   "execution_count": 41,
   "id": "2596c091",
   "metadata": {},
   "outputs": [],
   "source": [
    "tables = camelot.read_pdf(file)"
   ]
  },
  {
   "cell_type": "code",
   "execution_count": 44,
   "id": "29098770",
   "metadata": {},
   "outputs": [
    {
     "data": {
      "text/plain": [
       "<TableList n=0>"
      ]
     },
     "execution_count": 44,
     "metadata": {},
     "output_type": "execute_result"
    }
   ],
   "source": [
    "tables"
   ]
  },
  {
   "cell_type": "code",
   "execution_count": 43,
   "id": "adf7316b",
   "metadata": {},
   "outputs": [
    {
     "ename": "IndexError",
     "evalue": "list index out of range",
     "output_type": "error",
     "traceback": [
      "\u001b[0;31m---------------------------------------------------------------------------\u001b[0m",
      "\u001b[0;31mIndexError\u001b[0m                                Traceback (most recent call last)",
      "\u001b[0;32m/var/folders/70/_h6qxcw12fsbgjzkv5hr63y40000gn/T/ipykernel_24348/4245955268.py\u001b[0m in \u001b[0;36m<module>\u001b[0;34m\u001b[0m\n\u001b[0;32m----> 1\u001b[0;31m \u001b[0mprint\u001b[0m\u001b[0;34m(\u001b[0m\u001b[0mtables\u001b[0m\u001b[0;34m[\u001b[0m\u001b[0;36m0\u001b[0m\u001b[0;34m]\u001b[0m\u001b[0;34m.\u001b[0m\u001b[0mdf\u001b[0m\u001b[0;34m)\u001b[0m\u001b[0;34m\u001b[0m\u001b[0;34m\u001b[0m\u001b[0m\n\u001b[0m",
      "\u001b[0;32m~/opt/anaconda3/lib/python3.9/site-packages/camelot/core.py\u001b[0m in \u001b[0;36m__getitem__\u001b[0;34m(self, idx)\u001b[0m\n\u001b[1;32m    687\u001b[0m \u001b[0;34m\u001b[0m\u001b[0m\n\u001b[1;32m    688\u001b[0m     \u001b[0;32mdef\u001b[0m \u001b[0m__getitem__\u001b[0m\u001b[0;34m(\u001b[0m\u001b[0mself\u001b[0m\u001b[0;34m,\u001b[0m \u001b[0midx\u001b[0m\u001b[0;34m)\u001b[0m\u001b[0;34m:\u001b[0m\u001b[0;34m\u001b[0m\u001b[0;34m\u001b[0m\u001b[0m\n\u001b[0;32m--> 689\u001b[0;31m         \u001b[0;32mreturn\u001b[0m \u001b[0mself\u001b[0m\u001b[0;34m.\u001b[0m\u001b[0m_tables\u001b[0m\u001b[0;34m[\u001b[0m\u001b[0midx\u001b[0m\u001b[0;34m]\u001b[0m\u001b[0;34m\u001b[0m\u001b[0;34m\u001b[0m\u001b[0m\n\u001b[0m\u001b[1;32m    690\u001b[0m \u001b[0;34m\u001b[0m\u001b[0m\n\u001b[1;32m    691\u001b[0m     \u001b[0;34m@\u001b[0m\u001b[0mstaticmethod\u001b[0m\u001b[0;34m\u001b[0m\u001b[0;34m\u001b[0m\u001b[0m\n",
      "\u001b[0;31mIndexError\u001b[0m: list index out of range"
     ]
    }
   ],
   "source": [
    "print(tables[0].df)"
   ]
  },
  {
   "cell_type": "code",
   "execution_count": null,
   "id": "365e2bf0",
   "metadata": {},
   "outputs": [],
   "source": []
  },
  {
   "cell_type": "code",
   "execution_count": null,
   "id": "0fae3ba6",
   "metadata": {},
   "outputs": [],
   "source": []
  },
  {
   "cell_type": "code",
   "execution_count": 50,
   "id": "e0540b8c",
   "metadata": {},
   "outputs": [
    {
     "name": "stdout",
     "output_type": "stream",
     "text": [
      "Requirement already satisfied: tabulate in /Users/MatthewZdun/opt/anaconda3/lib/python3.9/site-packages (0.9.0)\n",
      "Note: you may need to restart the kernel to use updated packages.\n"
     ]
    }
   ],
   "source": [
    "pip install tabulate"
   ]
  },
  {
   "cell_type": "code",
   "execution_count": 51,
   "id": "7fb8729a",
   "metadata": {},
   "outputs": [
    {
     "name": "stdout",
     "output_type": "stream",
     "text": [
      "Requirement already satisfied: tabula-py in /Users/MatthewZdun/opt/anaconda3/lib/python3.9/site-packages (2.5.1)\n",
      "Requirement already satisfied: pandas>=0.25.3 in /Users/MatthewZdun/opt/anaconda3/lib/python3.9/site-packages (from tabula-py) (1.3.4)\n",
      "Requirement already satisfied: distro in /Users/MatthewZdun/opt/anaconda3/lib/python3.9/site-packages (from tabula-py) (1.8.0)\n",
      "Requirement already satisfied: numpy in /Users/MatthewZdun/opt/anaconda3/lib/python3.9/site-packages (from tabula-py) (1.20.3)\n",
      "Requirement already satisfied: python-dateutil>=2.7.3 in /Users/MatthewZdun/opt/anaconda3/lib/python3.9/site-packages (from pandas>=0.25.3->tabula-py) (2.8.2)\n",
      "Requirement already satisfied: pytz>=2017.3 in /Users/MatthewZdun/opt/anaconda3/lib/python3.9/site-packages (from pandas>=0.25.3->tabula-py) (2021.3)\n",
      "Requirement already satisfied: six>=1.5 in /Users/MatthewZdun/opt/anaconda3/lib/python3.9/site-packages (from python-dateutil>=2.7.3->pandas>=0.25.3->tabula-py) (1.16.0)\n",
      "Note: you may need to restart the kernel to use updated packages.\n"
     ]
    }
   ],
   "source": [
    "pip install tabula-py"
   ]
  },
  {
   "cell_type": "code",
   "execution_count": 56,
   "id": "2b78a0f3",
   "metadata": {},
   "outputs": [],
   "source": [
    "from tabula import read_pdf\n",
    "from tabulate import tabulate\n",
    "import pandas as pd\n",
    "import io\n",
    "\n",
    "sample = read_pdf('data/october_permits.pdf',pages = 4)"
   ]
  },
  {
   "cell_type": "code",
   "execution_count": 57,
   "id": "1428824c",
   "metadata": {},
   "outputs": [
    {
     "ename": "ValueError",
     "evalue": "The truth value of a Series is ambiguous. Use a.empty, a.bool(), a.item(), a.any() or a.all().",
     "output_type": "error",
     "traceback": [
      "\u001b[0;31m---------------------------------------------------------------------------\u001b[0m",
      "\u001b[0;31mValueError\u001b[0m                                Traceback (most recent call last)",
      "\u001b[0;32m/var/folders/70/_h6qxcw12fsbgjzkv5hr63y40000gn/T/ipykernel_24348/4133052790.py\u001b[0m in \u001b[0;36m<module>\u001b[0;34m\u001b[0m\n\u001b[0;32m----> 1\u001b[0;31m \u001b[0mtable\u001b[0m \u001b[0;34m=\u001b[0m \u001b[0mtabulate\u001b[0m\u001b[0;34m(\u001b[0m\u001b[0msample\u001b[0m\u001b[0;34m)\u001b[0m\u001b[0;34m\u001b[0m\u001b[0;34m\u001b[0m\u001b[0m\n\u001b[0m",
      "\u001b[0;32m~/opt/anaconda3/lib/python3.9/site-packages/tabulate/__init__.py\u001b[0m in \u001b[0;36mtabulate\u001b[0;34m(tabular_data, headers, tablefmt, floatfmt, intfmt, numalign, stralign, missingval, showindex, disable_numparse, colalign, maxcolwidths, rowalign, maxheadercolwidths)\u001b[0m\n\u001b[1;32m   2046\u001b[0m         \u001b[0mtabular_data\u001b[0m \u001b[0;34m=\u001b[0m \u001b[0;34m[\u001b[0m\u001b[0;34m]\u001b[0m\u001b[0;34m\u001b[0m\u001b[0;34m\u001b[0m\u001b[0m\n\u001b[1;32m   2047\u001b[0m \u001b[0;34m\u001b[0m\u001b[0m\n\u001b[0;32m-> 2048\u001b[0;31m     list_of_lists, headers = _normalize_tabular_data(\n\u001b[0m\u001b[1;32m   2049\u001b[0m         \u001b[0mtabular_data\u001b[0m\u001b[0;34m,\u001b[0m \u001b[0mheaders\u001b[0m\u001b[0;34m,\u001b[0m \u001b[0mshowindex\u001b[0m\u001b[0;34m=\u001b[0m\u001b[0mshowindex\u001b[0m\u001b[0;34m\u001b[0m\u001b[0;34m\u001b[0m\u001b[0m\n\u001b[1;32m   2050\u001b[0m     )\n",
      "\u001b[0;32m~/opt/anaconda3/lib/python3.9/site-packages/tabulate/__init__.py\u001b[0m in \u001b[0;36m_normalize_tabular_data\u001b[0;34m(tabular_data, headers, showindex)\u001b[0m\n\u001b[1;32m   1469\u001b[0m     \u001b[0mheaders\u001b[0m \u001b[0;34m=\u001b[0m \u001b[0mlist\u001b[0m\u001b[0;34m(\u001b[0m\u001b[0mmap\u001b[0m\u001b[0;34m(\u001b[0m\u001b[0mstr\u001b[0m\u001b[0;34m,\u001b[0m \u001b[0mheaders\u001b[0m\u001b[0;34m)\u001b[0m\u001b[0;34m)\u001b[0m\u001b[0;34m\u001b[0m\u001b[0;34m\u001b[0m\u001b[0m\n\u001b[1;32m   1470\u001b[0m     \u001b[0;31m#    rows = list(map(list, rows))\u001b[0m\u001b[0;34m\u001b[0m\u001b[0;34m\u001b[0m\u001b[0m\n\u001b[0;32m-> 1471\u001b[0;31m     \u001b[0mrows\u001b[0m \u001b[0;34m=\u001b[0m \u001b[0mlist\u001b[0m\u001b[0;34m(\u001b[0m\u001b[0mmap\u001b[0m\u001b[0;34m(\u001b[0m\u001b[0;32mlambda\u001b[0m \u001b[0mr\u001b[0m\u001b[0;34m:\u001b[0m \u001b[0mr\u001b[0m \u001b[0;32mif\u001b[0m \u001b[0m_is_separating_line\u001b[0m\u001b[0;34m(\u001b[0m\u001b[0mr\u001b[0m\u001b[0;34m)\u001b[0m \u001b[0;32melse\u001b[0m \u001b[0mlist\u001b[0m\u001b[0;34m(\u001b[0m\u001b[0mr\u001b[0m\u001b[0;34m)\u001b[0m\u001b[0;34m,\u001b[0m \u001b[0mrows\u001b[0m\u001b[0;34m)\u001b[0m\u001b[0;34m)\u001b[0m\u001b[0;34m\u001b[0m\u001b[0;34m\u001b[0m\u001b[0m\n\u001b[0m\u001b[1;32m   1472\u001b[0m \u001b[0;34m\u001b[0m\u001b[0m\n\u001b[1;32m   1473\u001b[0m     \u001b[0;31m# add or remove an index column\u001b[0m\u001b[0;34m\u001b[0m\u001b[0;34m\u001b[0m\u001b[0m\n",
      "\u001b[0;32m~/opt/anaconda3/lib/python3.9/site-packages/tabulate/__init__.py\u001b[0m in \u001b[0;36m<lambda>\u001b[0;34m(r)\u001b[0m\n\u001b[1;32m   1469\u001b[0m     \u001b[0mheaders\u001b[0m \u001b[0;34m=\u001b[0m \u001b[0mlist\u001b[0m\u001b[0;34m(\u001b[0m\u001b[0mmap\u001b[0m\u001b[0;34m(\u001b[0m\u001b[0mstr\u001b[0m\u001b[0;34m,\u001b[0m \u001b[0mheaders\u001b[0m\u001b[0;34m)\u001b[0m\u001b[0;34m)\u001b[0m\u001b[0;34m\u001b[0m\u001b[0;34m\u001b[0m\u001b[0m\n\u001b[1;32m   1470\u001b[0m     \u001b[0;31m#    rows = list(map(list, rows))\u001b[0m\u001b[0;34m\u001b[0m\u001b[0;34m\u001b[0m\u001b[0m\n\u001b[0;32m-> 1471\u001b[0;31m     \u001b[0mrows\u001b[0m \u001b[0;34m=\u001b[0m \u001b[0mlist\u001b[0m\u001b[0;34m(\u001b[0m\u001b[0mmap\u001b[0m\u001b[0;34m(\u001b[0m\u001b[0;32mlambda\u001b[0m \u001b[0mr\u001b[0m\u001b[0;34m:\u001b[0m \u001b[0mr\u001b[0m \u001b[0;32mif\u001b[0m \u001b[0m_is_separating_line\u001b[0m\u001b[0;34m(\u001b[0m\u001b[0mr\u001b[0m\u001b[0;34m)\u001b[0m \u001b[0;32melse\u001b[0m \u001b[0mlist\u001b[0m\u001b[0;34m(\u001b[0m\u001b[0mr\u001b[0m\u001b[0;34m)\u001b[0m\u001b[0;34m,\u001b[0m \u001b[0mrows\u001b[0m\u001b[0;34m)\u001b[0m\u001b[0;34m)\u001b[0m\u001b[0;34m\u001b[0m\u001b[0;34m\u001b[0m\u001b[0m\n\u001b[0m\u001b[1;32m   1472\u001b[0m \u001b[0;34m\u001b[0m\u001b[0m\n\u001b[1;32m   1473\u001b[0m     \u001b[0;31m# add or remove an index column\u001b[0m\u001b[0;34m\u001b[0m\u001b[0;34m\u001b[0m\u001b[0m\n",
      "\u001b[0;32m~/opt/anaconda3/lib/python3.9/site-packages/tabulate/__init__.py\u001b[0m in \u001b[0;36m_is_separating_line\u001b[0;34m(row)\u001b[0m\n\u001b[1;32m    105\u001b[0m     \u001b[0mrow_type\u001b[0m \u001b[0;34m=\u001b[0m \u001b[0mtype\u001b[0m\u001b[0;34m(\u001b[0m\u001b[0mrow\u001b[0m\u001b[0;34m)\u001b[0m\u001b[0;34m\u001b[0m\u001b[0;34m\u001b[0m\u001b[0m\n\u001b[1;32m    106\u001b[0m     is_sl = (row_type == list or row_type == str) and (\n\u001b[0;32m--> 107\u001b[0;31m         \u001b[0;34m(\u001b[0m\u001b[0mlen\u001b[0m\u001b[0;34m(\u001b[0m\u001b[0mrow\u001b[0m\u001b[0;34m)\u001b[0m \u001b[0;34m>=\u001b[0m \u001b[0;36m1\u001b[0m \u001b[0;32mand\u001b[0m \u001b[0mrow\u001b[0m\u001b[0;34m[\u001b[0m\u001b[0;36m0\u001b[0m\u001b[0;34m]\u001b[0m \u001b[0;34m==\u001b[0m \u001b[0mSEPARATING_LINE\u001b[0m\u001b[0;34m)\u001b[0m\u001b[0;34m\u001b[0m\u001b[0;34m\u001b[0m\u001b[0m\n\u001b[0m\u001b[1;32m    108\u001b[0m         \u001b[0;32mor\u001b[0m \u001b[0;34m(\u001b[0m\u001b[0mlen\u001b[0m\u001b[0;34m(\u001b[0m\u001b[0mrow\u001b[0m\u001b[0;34m)\u001b[0m \u001b[0;34m>=\u001b[0m \u001b[0;36m2\u001b[0m \u001b[0;32mand\u001b[0m \u001b[0mrow\u001b[0m\u001b[0;34m[\u001b[0m\u001b[0;36m1\u001b[0m\u001b[0;34m]\u001b[0m \u001b[0;34m==\u001b[0m \u001b[0mSEPARATING_LINE\u001b[0m\u001b[0;34m)\u001b[0m\u001b[0;34m\u001b[0m\u001b[0;34m\u001b[0m\u001b[0m\n\u001b[1;32m    109\u001b[0m     )\n",
      "\u001b[0;32m~/opt/anaconda3/lib/python3.9/site-packages/pandas/core/generic.py\u001b[0m in \u001b[0;36m__nonzero__\u001b[0;34m(self)\u001b[0m\n\u001b[1;32m   1535\u001b[0m     \u001b[0;34m@\u001b[0m\u001b[0mfinal\u001b[0m\u001b[0;34m\u001b[0m\u001b[0;34m\u001b[0m\u001b[0m\n\u001b[1;32m   1536\u001b[0m     \u001b[0;32mdef\u001b[0m \u001b[0m__nonzero__\u001b[0m\u001b[0;34m(\u001b[0m\u001b[0mself\u001b[0m\u001b[0;34m)\u001b[0m\u001b[0;34m:\u001b[0m\u001b[0;34m\u001b[0m\u001b[0;34m\u001b[0m\u001b[0m\n\u001b[0;32m-> 1537\u001b[0;31m         raise ValueError(\n\u001b[0m\u001b[1;32m   1538\u001b[0m             \u001b[0;34mf\"The truth value of a {type(self).__name__} is ambiguous. \"\u001b[0m\u001b[0;34m\u001b[0m\u001b[0;34m\u001b[0m\u001b[0m\n\u001b[1;32m   1539\u001b[0m             \u001b[0;34m\"Use a.empty, a.bool(), a.item(), a.any() or a.all().\"\u001b[0m\u001b[0;34m\u001b[0m\u001b[0;34m\u001b[0m\u001b[0m\n",
      "\u001b[0;31mValueError\u001b[0m: The truth value of a Series is ambiguous. Use a.empty, a.bool(), a.item(), a.any() or a.all()."
     ]
    }
   ],
   "source": [
    "table = tabulate(sample)"
   ]
  },
  {
   "cell_type": "code",
   "execution_count": null,
   "id": "fbf25e83",
   "metadata": {},
   "outputs": [],
   "source": [
    "# Transform the table into dataframe\n",
    "df = pd.read_fwf(io.StringIO(table))\n",
    "\n",
    "# Save the final result as excel file\n",
    "df.to_excel(\"./data/food_calories.xlsx\")"
   ]
  }
 ],
 "metadata": {
  "kernelspec": {
   "display_name": "Python 3 (ipykernel)",
   "language": "python",
   "name": "python3"
  },
  "language_info": {
   "codemirror_mode": {
    "name": "ipython",
    "version": 3
   },
   "file_extension": ".py",
   "mimetype": "text/x-python",
   "name": "python",
   "nbconvert_exporter": "python",
   "pygments_lexer": "ipython3",
   "version": "3.9.7"
  }
 },
 "nbformat": 4,
 "nbformat_minor": 5
}
